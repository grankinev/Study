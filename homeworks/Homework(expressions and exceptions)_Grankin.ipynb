{
 "cells": [
  {
   "cell_type": "code",
   "execution_count": 26,
   "metadata": {},
   "outputs": [
    {
     "name": "stdout",
     "output_type": "stream",
     "text": [
      "2018-08-14 19:00:55\n"
     ]
    }
   ],
   "source": [
    "#Задача 1\n",
    "import datetime\n",
    "date = \"2018-08-14T19:00:55Z\"\n",
    "t = datetime.datetime.strptime(date, \"%Y-%m-%dT%H:%M:%SZ\")\n",
    "print(t)"
   ]
  },
  {
   "cell_type": "code",
   "execution_count": 54,
   "metadata": {},
   "outputs": [
    {
     "data": {
      "text/plain": [
       "'Monday 03 September 2018'"
      ]
     },
     "execution_count": 54,
     "metadata": {},
     "output_type": "execute_result"
    }
   ],
   "source": [
    "#Задача 2\n",
    "import datetime\n",
    "def weekday20(d):\n",
    "    dt = datetime.datetime.strptime(d, \"%Y-%m-%dT%H:%M:%SZ\")\n",
    "    dt20 = dt + datetime.timedelta(days = 20)\n",
    "    dt20 = dt20.strftime(\"%A %d %B %Y\")\n",
    "    return(dt20)\n",
    "weekday20(\"2018-08-14T19:00:55Z\")"
   ]
  },
  {
   "cell_type": "code",
   "execution_count": 57,
   "metadata": {},
   "outputs": [
    {
     "name": "stdout",
     "output_type": "stream",
     "text": [
      "Radius of sphere:  2\n",
      "Surface Area is:  50.26548245743669\n",
      "Volume is:  33.510321638291124\n"
     ]
    }
   ],
   "source": [
    "#Задача 3\n",
    "\n",
    "def calc_par(rad):\n",
    "    import math\n",
    "    S = 4*math.pi*(rad**2)\n",
    "    V = 4/3*math.pi*(rad**3)\n",
    "    print('Radius of sphere: ', rad)\n",
    "    print('Surface Area is: ', S)\n",
    "    print('Volume is: ', V)\n",
    "\n",
    "calc_par(2)"
   ]
  },
  {
   "cell_type": "code",
   "execution_count": 85,
   "metadata": {},
   "outputs": [
    {
     "data": {
      "text/plain": [
       "['12345', '23456']"
      ]
     },
     "execution_count": 85,
     "metadata": {},
     "output_type": "execute_result"
    }
   ],
   "source": [
    "#Задача 4\n",
    "string = 'kasdjvb password:12345 hdhvbpassword:23456, 3534726, password123 fhbfvw'\n",
    "def find_all_passwords(phrase):\n",
    "    \n",
    "    import re\n",
    "    a = re.findall('password:\\d+', phrase)\n",
    "    a = str(a)\n",
    "    b = re.findall('\\d+', a)\n",
    "    return(b)\n",
    "find_all_passwords(string)"
   ]
  },
  {
   "cell_type": "code",
   "execution_count": 20,
   "metadata": {},
   "outputs": [
    {
     "data": {
      "text/plain": [
       "['+7(917)12-345-67', '+7(495)36-558-47']"
      ]
     },
     "execution_count": 20,
     "metadata": {},
     "output_type": "execute_result"
    }
   ],
   "source": [
    "#Задача 5\n",
    "import re\n",
    "\n",
    "tel = 'My number is +7(917)12-345-67 or +7(495)36-558-47. Call me!'\n",
    "a = re.findall('\\+7\\(\\d\\d\\d\\)\\d\\d-\\d\\d\\d-\\d\\d', tel)\n",
    "# a = re.findall('\\+\\7\\(\\d\\d\\d\\)\\d\\d-\\d\\d\\d-\\d\\d]', tel)\n",
    "a"
   ]
  },
  {
   "cell_type": "code",
   "execution_count": 4,
   "metadata": {},
   "outputs": [
    {
     "name": "stdout",
     "output_type": "stream",
     "text": [
      "The following 1 pairs cannot be divided:  [(4, 0)]\n",
      "The following pairs are ok:  [(2, 3), (9, 3)]\n"
     ]
    }
   ],
   "source": [
    "# N6\n",
    "pairs = [(2, 3), (4, 0), (9, 3)] \n",
    "good = []\n",
    "bad = []\n",
    "count = 0\n",
    "for i in pairs:\n",
    "        try:\n",
    "            i[0]/i[1]\n",
    "        except:\n",
    "            count += 1\n",
    "            bad.append(i)\n",
    "        else:\n",
    "            good.append(i)\n",
    "print('The following', count, 'pairs cannot be divided: ',bad)\n",
    "print('The following pairs are ok: ',good)\n",
    "\n",
    "  "
   ]
  },
  {
   "cell_type": "code",
   "execution_count": null,
   "metadata": {},
   "outputs": [],
   "source": []
  }
 ],
 "metadata": {
  "kernelspec": {
   "display_name": "Python 3",
   "language": "python",
   "name": "python3"
  },
  "language_info": {
   "codemirror_mode": {
    "name": "ipython",
    "version": 3
   },
   "file_extension": ".py",
   "mimetype": "text/x-python",
   "name": "python",
   "nbconvert_exporter": "python",
   "pygments_lexer": "ipython3",
   "version": "3.6.5"
  }
 },
 "nbformat": 4,
 "nbformat_minor": 2
}
