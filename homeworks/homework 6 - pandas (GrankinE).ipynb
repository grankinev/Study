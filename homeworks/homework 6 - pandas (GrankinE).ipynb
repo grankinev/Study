{
 "cells": [
  {
   "cell_type": "code",
   "execution_count": 2,
   "metadata": {},
   "outputs": [
    {
     "name": "stdout",
     "output_type": "stream",
     "text": [
      "Number of findings equals:  930\n"
     ]
    }
   ],
   "source": [
    "#Блок 1\n",
    "#Задача 1\n",
    "import pandas as pd\n",
    "df = pd.read_excel('data-54581-2018-08-28.xlsx', sheet_name = 'Sheet0')\n",
    "print ('Число находок равно: ',len(df['ID']))\n",
    "\n",
    "# Задача 2\n",
    "# adding year column\n",
    "df['year']=0\n",
    "\n",
    "j=0\n",
    "for i in df['DateOfDiscovery']:\n",
    "    df['year'][j] = i[-4:]\n",
    "    j += 1\n",
    "    \n",
    "#adding month column\n",
    "df['month']=0\n",
    "j=0\n",
    "for i in df['DateOfDiscovery']:\n",
    "    df['month'][j] = i[3:5]\n",
    "    j += 1\n",
    "\n",
    "#задача 3\n",
    "print(df['year'].value_counts())\n",
    "df.hist(column='year')\n",
    "\n",
    "print(df['month'].value_counts())\n",
    "df.hist(column='month')\n",
    "\n",
    "#Задача 4\n",
    "length = len(df['DescriptionOfFinding'][0])\n",
    "index = 0\n",
    "for i in df['DescriptionOfFinding'][1:]:\n",
    "    index += 1\n",
    "    if len(i) > length:\n",
    "        length = len(i)\n",
    "        key = index\n",
    "print(df['DescriptionOfFinding'][key])  \n",
    "print('Длина наибольшего описания =', length)\n",
    "\n",
    "#задача 5: поиск денег\n",
    "\n",
    "count = 0\n",
    "for i in df['DescriptionOfFinding']:\n",
    "    if ('монет' in i) or ('деньги' in i) or ('копейк' in i) or ('рубл' in i):\n",
    "        count = count + 1\n",
    "print (count, '- число находок, в которых обнаружены старые деньги')"
   ]
  },
  {
   "cell_type": "code",
   "execution_count": 108,
   "metadata": {},
   "outputs": [
    {
     "name": "stdout",
     "output_type": "stream",
     "text": [
      "Total number of objects: 3827\n"
     ]
    }
   ],
   "source": [
    "#Блок 2\n",
    "# Задача 1\n",
    "import pandas as pd\n",
    "df = pd.read_excel('data-25342-2018-08-17.xlsx', sheet_name = 'Sheet0')\n",
    "print ('Всего спортивных объектов:', len(df['global_id']))\n",
    "\n",
    "# Задача 2\n",
    "pd.set_option('display.max_columns', None)\n",
    "\n",
    "# Задача 3\n",
    "df.notna().any() # в столбцах HelpPhoneExtension и ClarificationOfWorkingHoursSummer все элементы пропущены, поэтому удаление строк с пропусками приведет к полному удалению всех элементов.\n",
    "df.dropna(inplace=True)\n",
    "\n",
    "# Задача 4\n",
    "df[((df['DisabilityFriendly'] == 'частично приспособлен')|\\\n",
    "    (df['DisabilityFriendly'] == 'приспособлен для всех групп инвалидов')|\\\n",
    "    (df['DisabilityFriendly'] == 'приспособлен для лиц с нарушением ОДА'))&\\\n",
    "   (df['Paid'] == 'бесплатно')]\n",
    "\n",
    "#Задача 5\n",
    "print('возможны следующие типы покрытия: ',\\\n",
    "      df['SurfaceTypeSummer'].unique())\n",
    "\n",
    "print('Самое популярное покрытие:',df['SurfaceTypeSummer'].value_counts().index[0],\\\n",
    "      df['SurfaceTypeSummer'].value_counts()[0])\n",
    "print('Наименее популярное покрытие:',df['SurfaceTypeSummer'].value_counts().index[-1],\\\n",
    "      df['SurfaceTypeSummer'].value_counts()[-1])\n",
    "\n",
    "#Задача 6\n",
    "print('Существуют',len(df['District'].unique()),'различных районов со спортивной инфраструктурой')\n",
    "print('Район с наибольшим числом спортплощадок:', df['District'].value_counts().index[0],'.' \\\n",
    "      ' Существует',df['District'].value_counts()[0],'спортплощадок в этом районе.')\n",
    "\n",
    "#Задача 7\n",
    "import numpy as np\n",
    "c = 0\n",
    "for i in df['District']:\n",
    "    if 'аэропорт' in i.lower():\n",
    "        c = c+1\n",
    "print('В районе Аэропорт расположено', c, 'спортплощадок')    \n",
    "\n",
    "distlist = df['District'].value_counts().index\n",
    "position = np.where(distlist=='район Аэропорт')\n",
    "print('Район Аэропорт занимает',position[0]+1, 'место по числу площадок')"
   ]
  },
  {
   "cell_type": "code",
   "execution_count": null,
   "metadata": {},
   "outputs": [],
   "source": []
  },
  {
   "cell_type": "code",
   "execution_count": null,
   "metadata": {},
   "outputs": [],
   "source": []
  }
 ],
 "metadata": {
  "kernelspec": {
   "display_name": "Python 3",
   "language": "python",
   "name": "python3"
  },
  "language_info": {
   "codemirror_mode": {
    "name": "ipython",
    "version": 3
   },
   "file_extension": ".py",
   "mimetype": "text/x-python",
   "name": "python",
   "nbconvert_exporter": "python",
   "pygments_lexer": "ipython3",
   "version": "3.6.5"
  }
 },
 "nbformat": 4,
 "nbformat_minor": 2
}
