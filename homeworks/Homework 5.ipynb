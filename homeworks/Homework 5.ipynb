{
 "cells": [
  {
   "cell_type": "code",
   "execution_count": 65,
   "metadata": {},
   "outputs": [],
   "source": [
    "#задача 1\n",
    "def calc_factorial(arg):\n",
    "    fact = 1\n",
    "    if arg == 0:\n",
    "        return 1\n",
    "    else:\n",
    "        for i in range(1,arg+1):\n",
    "            fact = fact * i\n",
    "    return fact\n",
    "\n",
    "        \n",
    "        \n",
    "    "
   ]
  },
  {
   "cell_type": "code",
   "execution_count": 62,
   "metadata": {},
   "outputs": [],
   "source": [
    "#задача 2\n",
    "def find_max(ar1,ar2,ar3):\n",
    "    funlist = [ar1,ar2,ar3]\n",
    "    maxar = ar1\n",
    "    for i in funlist:\n",
    "        if i>= maxar:\n",
    "            maxar = i\n",
    "    \n",
    "    return maxar\n",
    "    \n",
    "    \n",
    "    "
   ]
  },
  {
   "cell_type": "code",
   "execution_count": 24,
   "metadata": {},
   "outputs": [
    {
     "name": "stdout",
     "output_type": "stream",
     "text": [
      "120\n"
     ]
    },
    {
     "ename": "StopIteration",
     "evalue": "",
     "output_type": "error",
     "traceback": [
      "\u001b[1;31m---------------------------------------------------------------------------\u001b[0m",
      "\u001b[1;31mStopIteration\u001b[0m                             Traceback (most recent call last)",
      "\u001b[1;32m<ipython-input-24-ca17113f735d>\u001b[0m in \u001b[0;36m<module>\u001b[1;34m()\u001b[0m\n\u001b[0;32m     12\u001b[0m \u001b[0mfactorial_generator\u001b[0m \u001b[1;33m=\u001b[0m \u001b[0mget_factorial_generator\u001b[0m\u001b[1;33m(\u001b[0m\u001b[1;36m5\u001b[0m\u001b[1;33m)\u001b[0m\u001b[1;33m\u001b[0m\u001b[0m\n\u001b[0;32m     13\u001b[0m \u001b[0mprint\u001b[0m\u001b[1;33m(\u001b[0m\u001b[0mnext\u001b[0m\u001b[1;33m(\u001b[0m\u001b[0mfactorial_generator\u001b[0m\u001b[1;33m)\u001b[0m\u001b[1;33m)\u001b[0m  \u001b[1;31m# печатает 1\u001b[0m\u001b[1;33m\u001b[0m\u001b[0m\n\u001b[1;32m---> 14\u001b[1;33m \u001b[0mprint\u001b[0m\u001b[1;33m(\u001b[0m\u001b[0mnext\u001b[0m\u001b[1;33m(\u001b[0m\u001b[0mfactorial_generator\u001b[0m\u001b[1;33m)\u001b[0m\u001b[1;33m)\u001b[0m  \u001b[1;31m# печатает 1\u001b[0m\u001b[1;33m\u001b[0m\u001b[0m\n\u001b[0m\u001b[0;32m     15\u001b[0m \u001b[0mprint\u001b[0m\u001b[1;33m(\u001b[0m\u001b[0mnext\u001b[0m\u001b[1;33m(\u001b[0m\u001b[0mfactorial_generator\u001b[0m\u001b[1;33m)\u001b[0m\u001b[1;33m)\u001b[0m  \u001b[1;31m# печатает 2\u001b[0m\u001b[1;33m\u001b[0m\u001b[0m\n\u001b[0;32m     16\u001b[0m \u001b[0mprint\u001b[0m\u001b[1;33m(\u001b[0m\u001b[0mnext\u001b[0m\u001b[1;33m(\u001b[0m\u001b[0mfactorial_generator\u001b[0m\u001b[1;33m)\u001b[0m\u001b[1;33m)\u001b[0m  \u001b[1;31m# печатает 6\u001b[0m\u001b[1;33m\u001b[0m\u001b[0m\n",
      "\u001b[1;31mStopIteration\u001b[0m: "
     ]
    }
   ],
   "source": [
    "#Задача 3\n",
    "\n",
    "def get_factorial_generator(arg):\n",
    "    fact = 1\n",
    "    if arg == 0:\n",
    "        yield 1\n",
    "    else:\n",
    "        for i in range(1,arg+1):\n",
    "            fact = fact * i\n",
    "    yield fact\n",
    "    \n",
    "factorial_generator = get_factorial_generator(5)\n",
    "print(next(factorial_generator))  # печатает 1\n",
    "print(next(factorial_generator))  # печатает 1\n",
    "print(next(factorial_generator))  # печатает 2\n",
    "print(next(factorial_generator))  # печатает 6\n",
    "print(next(factorial_generator))  # печатает 24"
   ]
  },
  {
   "cell_type": "code",
   "execution_count": 26,
   "metadata": {},
   "outputs": [],
   "source": [
    "#Задача 4.1\n",
    "\n",
    "def calc_factorial(arg):\n",
    "    fact = 1\n",
    "    if arg == 0:\n",
    "        return 1\n",
    "    else:\n",
    "        for i in range(1,arg+1):\n",
    "            fact = fact * i\n",
    "    return fact\n",
    "\n",
    "\n",
    "initlist = [1, 5, 20, 3, 7]\n",
    "factlist = [calc_factorial (i) for i in initlist]"
   ]
  },
  {
   "cell_type": "code",
   "execution_count": 29,
   "metadata": {},
   "outputs": [],
   "source": [
    "#Задача 4.2\n",
    "\n",
    "def calc_factorial(arg):\n",
    "    fact = 1\n",
    "    if arg == 0:\n",
    "        return 1\n",
    "    else:\n",
    "        for i in range(1,arg+1):\n",
    "            fact = fact * i\n",
    "    return fact\n",
    "\n",
    "\n",
    "initlist = [1, 5, 20, 31, 3, 7]\n",
    "factlist = [calc_factorial (i) for i in initlist if i<=30]"
   ]
  },
  {
   "cell_type": "code",
   "execution_count": 4,
   "metadata": {},
   "outputs": [
    {
     "name": "stdout",
     "output_type": "stream",
     "text": [
      "Files are equal\n"
     ]
    }
   ],
   "source": [
    "#Задача 5\n",
    "\n",
    "with open ('Onegin_utf8.txt', encoding='utf8') as poem_1:\n",
    "    poem_utf = poem_1.read()\n",
    "\n",
    "with open ('Onegin_windows1251.txt', encoding='windows-1251') as poem_2:\n",
    "    poem_1251 = poem_2.read()\n",
    "\n",
    "if poem_utf == poem_1251:\n",
    "    print('Files are equal')\n",
    "else:\n",
    "    print('FIles are different')"
   ]
  },
  {
   "cell_type": "code",
   "execution_count": null,
   "metadata": {},
   "outputs": [],
   "source": []
  }
 ],
 "metadata": {
  "kernelspec": {
   "display_name": "Python 3",
   "language": "python",
   "name": "python3"
  },
  "language_info": {
   "codemirror_mode": {
    "name": "ipython",
    "version": 3
   },
   "file_extension": ".py",
   "mimetype": "text/x-python",
   "name": "python",
   "nbconvert_exporter": "python",
   "pygments_lexer": "ipython3",
   "version": "3.6.5"
  }
 },
 "nbformat": 4,
 "nbformat_minor": 2
}
