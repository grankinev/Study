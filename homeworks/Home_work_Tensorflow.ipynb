{
 "cells": [
  {
   "cell_type": "markdown",
   "metadata": {},
   "source": [
    "# ДПО"
   ]
  },
  {
   "cell_type": "markdown",
   "metadata": {},
   "source": [
    "## Домашнее задание NN_L1\n",
    "\n",
    "Задания 1-10 - обязательные <br>\n",
    "Задание 11 - опциональное <br>\n",
    "Выполнять задания необходимо без использования numpy (только TensorFlow / PyTorch) "
   ]
  },
  {
   "cell_type": "markdown",
   "metadata": {},
   "source": [
    "### 1) Импортируйте tensorflow"
   ]
  },
  {
   "cell_type": "code",
   "execution_count": 1,
   "metadata": {},
   "outputs": [
    {
     "name": "stderr",
     "output_type": "stream",
     "text": [
      "C:\\Apps\\Anaconda\\lib\\site-packages\\h5py\\__init__.py:36: FutureWarning: Conversion of the second argument of issubdtype from `float` to `np.floating` is deprecated. In future, it will be treated as `np.float64 == np.dtype(float).type`.\n",
      "  from ._conv import register_converters as _register_converters\n"
     ]
    }
   ],
   "source": [
    "import tensorflow as tf\n",
    "tf.reset_default_graph()\n",
    "import numpy as np"
   ]
  },
  {
   "cell_type": "markdown",
   "metadata": {},
   "source": [
    "### 2) Определите два Placeholder-a A(передайте 4) и B(передайте 3) и две переменных a(инициализируйте - 2-кой) и b(инициализируйте - 1) и в рамках tf-сессии сложите их"
   ]
  },
  {
   "cell_type": "code",
   "execution_count": 2,
   "metadata": {},
   "outputs": [
    {
     "name": "stdout",
     "output_type": "stream",
     "text": [
      "A= [4.]\n",
      "B= [3.]\n",
      "a= 2.0\n",
      "b= 1.0\n",
      "Сумма а и b равна: 3.0\n"
     ]
    }
   ],
   "source": [
    "A = tf.placeholder(dtype=tf.float32,shape=[1])\n",
    "B = tf.placeholder(dtype=tf.float32, shape=[1])\n",
    "a = tf.Variable(2,dtype=tf.float32)\n",
    "b = tf.Variable(1,dtype=tf.float32)\n",
    "s = a + b \n",
    "with tf.Session() as sess:\n",
    "    sess.run(tf.variables_initializer([a]))\n",
    "    sess.run(tf.variables_initializer([b]))\n",
    "    print('A=',sess.run(A, feed_dict={A:[4]}))\n",
    "    print('B=',sess.run(B, feed_dict={B:[3]}))\n",
    "\n",
    "    print('a=',sess.run(a))\n",
    "    print('b=',sess.run(b))\n",
    "    print('Сумма а и b равна:',sess.run(s))"
   ]
  },
  {
   "cell_type": "markdown",
   "metadata": {},
   "source": [
    "### 3) Создайте 1D Tensor от 0 до 10 с шагом 2 - [0, 2, 4, 6, 8]"
   ]
  },
  {
   "cell_type": "code",
   "execution_count": 3,
   "metadata": {},
   "outputs": [
    {
     "name": "stdout",
     "output_type": "stream",
     "text": [
      "[0 2 4 6 8]\n"
     ]
    }
   ],
   "source": [
    "x = tf.range(start = 0, limit = 10, delta = 2)  \n",
    "\n",
    "with tf.Session() as sess:\n",
    "    print(sess.run(x))\n",
    "\n",
    "    \n"
   ]
  },
  {
   "cell_type": "markdown",
   "metadata": {},
   "source": [
    "### 4) Отфильтруйте каждое второе значение вектора созданного на предыдущего шаге"
   ]
  },
  {
   "cell_type": "code",
   "execution_count": 4,
   "metadata": {},
   "outputs": [
    {
     "name": "stdout",
     "output_type": "stream",
     "text": [
      "[4, 8]\n"
     ]
    }
   ],
   "source": [
    "list = []\n",
    "with tf.Session() as sess:\n",
    "    for i in range(2,5,2):\n",
    "        list.append(sess.run(x[i]))\n",
    "    print(list)"
   ]
  },
  {
   "cell_type": "markdown",
   "metadata": {},
   "source": [
    "### 5) Создайте матрицу 3х3, где значения будут \n",
    "[0, 1, 2],<br>\n",
    "       [3, 4, 5],<br>\n",
    "       [6, 7, 8]<br>"
   ]
  },
  {
   "cell_type": "code",
   "execution_count": 5,
   "metadata": {},
   "outputs": [
    {
     "name": "stdout",
     "output_type": "stream",
     "text": [
      "[[0. 1. 2.]\n",
      " [3. 4. 5.]\n",
      " [6. 7. 8.]]\n"
     ]
    }
   ],
   "source": [
    "mat = tf.Variable([[0,1,2],[3,4,5],[6,7,8]], dtype=tf.float16)\n",
    "with tf.Session() as sess:\n",
    "    sess.run(tf.variables_initializer([mat]))\n",
    "    print(sess.run(mat))\n"
   ]
  },
  {
   "cell_type": "markdown",
   "metadata": {},
   "source": [
    "### 6) Посчитайте среднее значение, сумму, а также максимум вектора a = [1,2,3,4,5,6,7,8,9]"
   ]
  },
  {
   "cell_type": "code",
   "execution_count": 6,
   "metadata": {},
   "outputs": [
    {
     "name": "stdout",
     "output_type": "stream",
     "text": [
      "45.0\n",
      "5.0\n",
      "9.0\n"
     ]
    }
   ],
   "source": [
    "vect = tf.Variable([1,2,3,4,5,6,7,8,9], dtype=tf.float32)\n",
    "s = tf.reduce_sum(vect)\n",
    "mean = tf.reduce_mean(vect)\n",
    "maximum = tf.reduce_max(vect)\n",
    "with tf.Session() as sess:\n",
    "    sess.run(tf.variables_initializer([vect]))\n",
    "    print(sess.run(s))\n",
    "    print(sess.run(mean))\n",
    "    print(sess.run(maximum))"
   ]
  },
  {
   "cell_type": "markdown",
   "metadata": {},
   "source": [
    "### 7) Создайте матрицу 10х10, где все значения распределены равномерно"
   ]
  },
  {
   "cell_type": "code",
   "execution_count": 7,
   "metadata": {},
   "outputs": [
    {
     "name": "stdout",
     "output_type": "stream",
     "text": [
      "[[0.04383624 0.9142095  0.51219296 0.0248307  0.9681189  0.02241731\n",
      "  0.6721103  0.23868358 0.47617614 0.9341253 ]\n",
      " [0.16357327 0.7292987  0.57528555 0.6823478  0.07805538 0.07504499\n",
      "  0.15972662 0.75747526 0.08204472 0.8744788 ]\n",
      " [0.52045286 0.679703   0.5318061  0.54676044 0.44546318 0.10179591\n",
      "  0.25784886 0.01566315 0.7427077  0.11526132]\n",
      " [0.5862155  0.9793016  0.4456377  0.32582557 0.57876694 0.69666374\n",
      "  0.8338165  0.56071174 0.19926894 0.04148769]\n",
      " [0.6393064  0.6071373  0.65422785 0.36845946 0.8110366  0.4420669\n",
      "  0.6421466  0.3805338  0.29156005 0.11083436]\n",
      " [0.25186324 0.2071805  0.3073274  0.8224776  0.6056757  0.7970022\n",
      "  0.74089515 0.04644418 0.61401224 0.8931571 ]\n",
      " [0.6106839  0.5012356  0.72475684 0.9642798  0.27399266 0.29168868\n",
      "  0.6696601  0.2850486  0.5202446  0.89493597]\n",
      " [0.999828   0.9361758  0.607479   0.3422587  0.36817658 0.53629434\n",
      "  0.44643903 0.36974883 0.930727   0.7671051 ]\n",
      " [0.5954871  0.00238538 0.2536155  0.64674187 0.48675942 0.9343791\n",
      "  0.9620162  0.21484458 0.42246747 0.55005705]\n",
      " [0.37566805 0.8267838  0.44844508 0.36609924 0.12385428 0.84916854\n",
      "  0.60141754 0.6965722  0.93461406 0.03257692]]\n"
     ]
    }
   ],
   "source": [
    "mat = tf.Variable(tf.random_uniform([10,10]))\n",
    "with tf.Session() as sess:\n",
    "    sess.run(tf.variables_initializer([mat]))\n",
    "    print(sess.run(mat))"
   ]
  },
  {
   "cell_type": "markdown",
   "metadata": {},
   "source": [
    "### 8) Создайте матрицу 5х5 где все значения -1, а на главной диагонали +1 "
   ]
  },
  {
   "cell_type": "code",
   "execution_count": 8,
   "metadata": {},
   "outputs": [
    {
     "name": "stdout",
     "output_type": "stream",
     "text": [
      "[[ 1 -1 -1 -1 -1]\n",
      " [-1  1 -1 -1 -1]\n",
      " [-1 -1  1 -1 -1]\n",
      " [-1 -1 -1  1 -1]\n",
      " [-1 -1 -1 -1  1]]\n"
     ]
    }
   ],
   "source": [
    "\n",
    "mat = tf.fill([5,5], -1)\n",
    "\n",
    "diagonal = [1,1,1,1,1]\n",
    "\n",
    "mat = tf.matrix_set_diag(mat, diagonal)\n",
    "# mat2 = tf.constant(-1,shape=[5,5])\n",
    "# matmul = tf.matmul(mat,mat2)\n",
    "\n",
    "\n",
    "with tf.Session() as sess:\n",
    "    print(sess.run(mat))\n"
   ]
  },
  {
   "cell_type": "markdown",
   "metadata": {},
   "source": [
    "### 9) Разбейте вектор a = [1,2,3,4,5,6,7,8] на два"
   ]
  },
  {
   "cell_type": "code",
   "execution_count": 9,
   "metadata": {},
   "outputs": [
    {
     "name": "stdout",
     "output_type": "stream",
     "text": [
      "[1 2 3 4]\n",
      "[5 6 7 8]\n"
     ]
    }
   ],
   "source": [
    "vect = tf.constant([1,2,3,4,5,6,7,8])\n",
    "split0, split1 = tf.split(vect,2)\n",
    "\n",
    "with tf.Session() as sess:\n",
    "    print(sess.run(split0))\n",
    "    print(sess.run(split1))"
   ]
  },
  {
   "cell_type": "markdown",
   "metadata": {},
   "source": [
    "### 10) Даны точки x и y, восстановите зависимость:"
   ]
  },
  {
   "cell_type": "code",
   "execution_count": 10,
   "metadata": {},
   "outputs": [],
   "source": [
    "import numpy as np\n",
    "from matplotlib.pylab import plt\n"
   ]
  },
  {
   "cell_type": "code",
   "execution_count": 100,
   "metadata": {},
   "outputs": [],
   "source": [
    "tf.reset_default_graph()\n",
    "tf.enable_eager_execution()\n",
    "%matplotlib inline\n",
    "x = np.linspace(-10,10,100)\n",
    "y = x**2+3.2*x+2.4+np.random.normal(scale=6,size=100)"
   ]
  },
  {
   "cell_type": "code",
   "execution_count": 101,
   "metadata": {},
   "outputs": [],
   "source": [
    "#plt.scatter(x,y)"
   ]
  },
  {
   "cell_type": "code",
   "execution_count": 102,
   "metadata": {},
   "outputs": [
    {
     "name": "stdout",
     "output_type": "stream",
     "text": [
      "2220.489\n",
      "1382.474\n",
      "1099.666\n",
      "996.6761\n"
     ]
    }
   ],
   "source": [
    "a = tf.get_variable(name=\"weight\", shape=[1]) \n",
    "b = tf.get_variable(name=\"bias\", shape=[1]) \n",
    "\n",
    "x = tf.convert_to_tensor(x, np.float32)\n",
    "y = tf.convert_to_tensor(y, np.float32)\n",
    "\n",
    "y_ = a*x+b\n",
    "loss = tf.losses.mean_squared_error(y,y_)\n",
    "optimizer = tf.train.GradientDescentOptimizer(learning_rate=0.01).minimize(loss)\n",
    "\n",
    "with tf.Session() as sess:\n",
    "    sess.run(tf.global_variables_initializer())\n",
    "    for epoch in range(100):\n",
    "        \n",
    "        sess.run(optimizer)\n",
    "        if epoch%25==0:\n",
    "            print(sess.run(loss))\n",
    "          \n",
    "    y_preds,x_preds = sess.run([y_,x])\n",
    "    x = sess.run([x])\n",
    "    y = sess.run([y])\n"
   ]
  },
  {
   "cell_type": "code",
   "execution_count": 103,
   "metadata": {},
   "outputs": [
    {
     "data": {
      "text/plain": [
       "[<matplotlib.lines.Line2D at 0x25725b23048>]"
      ]
     },
     "execution_count": 103,
     "metadata": {},
     "output_type": "execute_result"
    },
    {
     "data": {
      "image/png": "[encoded data removed]",
      "text/plain": [
       "<Figure size 432x288 with 1 Axes>"
      ]
     },
     "metadata": {},
     "output_type": "display_data"
    }
   ],
   "source": [
    "plt.scatter(x,y)\n",
    "plt.plot(x_preds,y_preds)"
   ]
  },
  {
   "cell_type": "markdown",
   "metadata": {},
   "source": [
    "### 11) Реализуйте класс TF_LinearRegression c методами как в sklearn.linear_model.LinearRegression (задание с *)"
   ]
  },
  {
   "cell_type": "code",
   "execution_count": null,
   "metadata": {},
   "outputs": [],
   "source": [
    "# ...code"
   ]
  },
  {
   "cell_type": "code",
   "execution_count": null,
   "metadata": {},
   "outputs": [],
   "source": [
    "# Оставьте свой комментарий по задачам (сложнее, проще, что понравилось, что нет) "
   ]
  }
 ],
 "metadata": {
  "kernelspec": {
   "display_name": "Python 3",
   "language": "python",
   "name": "python3"
  },
  "language_info": {
   "codemirror_mode": {
    "name": "ipython",
    "version": 3
   },
   "file_extension": ".py",
   "mimetype": "text/x-python",
   "name": "python",
   "nbconvert_exporter": "python",
   "pygments_lexer": "ipython3",
   "version": "3.6.8"
  }
 },
 "nbformat": 4,
 "nbformat_minor": 2
}
