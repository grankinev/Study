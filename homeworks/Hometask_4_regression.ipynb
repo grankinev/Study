{
 "cells": [
  {
   "cell_type": "markdown",
   "metadata": {},
   "source": [
    "# Домашнее задание 4. Регрессия\n",
    "**Дедлайн 23:59 07.12.2018**\n",
    "\n"
   ]
  },
  {
   "cell_type": "markdown",
   "metadata": {},
   "source": [
    "# Задача\n",
    "[Данные](https://www.kaggle.com/sohier/calcofi#bottle.csv) представляют собой различные показания океанической воды, взятые в разных местах. Задача состоит в исследовании того, насколько возможным является восстановление температуры воды по её химическим показателям\n",
    "\n",
    "**Целевая переменная** - *T_degC* (температура воды в Цельсиях)"
   ]
  },
  {
   "cell_type": "markdown",
   "metadata": {},
   "source": [
    "# Условие\n",
    "В рамках данной задачи Вам предлагается попробовать следующее:\n",
    "1. Предложите метрику качества Вашей модели. Нужны ли нам здесь ассиметричные метрики (аля quantile regression)? Объясните свой выбор.\n",
    "2. Попробуйте различные модели регрессии для данной задачи. Выберите и затюньте наилучшую.\n",
    "3. Какие из этих моделей требуют нормализации данных? \n",
    "4. Какое качество получилось? Можно ли говорить о какой-либо значимой зависимости температуры воды от её химических показателей?"
   ]
  },
  {
   "cell_type": "markdown",
   "metadata": {},
   "source": [
    "# Решение"
   ]
  },
  {
   "cell_type": "markdown",
   "metadata": {},
   "source": [
    "## 0. Загрузка и предобработка данных"
   ]
  },
  {
   "cell_type": "code",
   "execution_count": 2,
   "metadata": {},
   "outputs": [
    {
     "name": "stderr",
     "output_type": "stream",
     "text": [
      "/home/artem/anaconda3/envs/pytorch_3.6/lib/python3.6/site-packages/IPython/core/interactiveshell.py:2785: DtypeWarning: Columns (47,73) have mixed types. Specify dtype option on import or set low_memory=False.\n",
      "  interactivity=interactivity, compiler=compiler, result=result)\n"
     ]
    }
   ],
   "source": [
    "import pandas as pd\n",
    "df = pd.read_csv('../data/bottle.csv.zip')"
   ]
  },
  {
   "cell_type": "code",
   "execution_count": 8,
   "metadata": {},
   "outputs": [
    {
     "data": {
      "text/plain": [
       "Cst_Cnt                0.000000\n",
       "Btl_Cnt                0.000000\n",
       "Sta_ID                 0.000000\n",
       "Depth_ID               0.000000\n",
       "Depthm                 0.000000\n",
       "T_degC                 0.012676\n",
       "Salnty                 0.054753\n",
       "O2ml_L                 0.195016\n",
       "STheta                 0.060922\n",
       "O2Sat                  0.235400\n",
       "Oxy_µmol/Kg            0.235407\n",
       "BtlNum                 0.862791\n",
       "RecInd                 0.000000\n",
       "T_prec                 0.012676\n",
       "T_qual                 0.973259\n",
       "S_prec                 0.054753\n",
       "S_qual                 0.913381\n",
       "P_qual                 0.220969\n",
       "O_qual                 0.786468\n",
       "SThtaq                 0.923892\n",
       "O2Satq                 0.748172\n",
       "ChlorA                 0.739529\n",
       "Chlqua                 0.260963\n",
       "Phaeop                 0.739530\n",
       "Phaqua                 0.260958\n",
       "PO4uM                  0.522101\n",
       "PO4q                   0.477621\n",
       "SiO3uM                 0.590581\n",
       "SiO3qu                 0.409310\n",
       "NO2uM                  0.609677\n",
       "                         ...   \n",
       "MeanAs                 0.973811\n",
       "MeanAp                 0.976347\n",
       "MeanAq                 0.028240\n",
       "IncTim                 0.983307\n",
       "LightP                 0.978435\n",
       "R_Depth                0.000000\n",
       "R_TEMP                 0.012676\n",
       "R_POTEMP               0.053242\n",
       "R_SALINITY             0.054753\n",
       "R_SIGMA                0.061115\n",
       "R_SVA                  0.061017\n",
       "R_DYNHT                0.053947\n",
       "R_O2                   0.195016\n",
       "R_O2Sat                0.229418\n",
       "R_SIO3                 0.590572\n",
       "R_PO4                  0.522092\n",
       "R_NO3                  0.609868\n",
       "R_NO2                  0.609668\n",
       "R_NH4                  0.924864\n",
       "R_CHLA                 0.739524\n",
       "R_PHAEO                0.739525\n",
       "R_PRES                 0.000000\n",
       "R_SAMP                 0.858930\n",
       "DIC1                   0.997689\n",
       "DIC2                   0.999741\n",
       "TA1                    0.997590\n",
       "TA2                    0.999729\n",
       "pH2                    0.999988\n",
       "pH1                    0.999903\n",
       "DIC Quality Comment    0.999936\n",
       "Length: 74, dtype: float64"
      ]
     },
     "execution_count": 8,
     "metadata": {},
     "output_type": "execute_result"
    }
   ],
   "source": [
    "df.isna().sum()/df.shape[0] # доля пропущенных значений"
   ]
  },
  {
   "cell_type": "markdown",
   "metadata": {},
   "source": [
    "Данные очень сырые. Выкинем те объекты, которые содержат пропущенную целевую переменную"
   ]
  },
  {
   "cell_type": "code",
   "execution_count": 9,
   "metadata": {},
   "outputs": [],
   "source": [
    "df = df[~df['T_degC'].isnull()]"
   ]
  },
  {
   "cell_type": "code",
   "execution_count": 22,
   "metadata": {},
   "outputs": [
    {
     "data": {
      "text/html": [
       "<div>\n",
       "<style scoped>\n",
       "    .dataframe tbody tr th:only-of-type {\n",
       "        vertical-align: middle;\n",
       "    }\n",
       "\n",
       "    .dataframe tbody tr th {\n",
       "        vertical-align: top;\n",
       "    }\n",
       "\n",
       "    .dataframe thead th {\n",
       "        text-align: right;\n",
       "    }\n",
       "</style>\n",
       "<table border=\"1\" class=\"dataframe\">\n",
       "  <thead>\n",
       "    <tr style=\"text-align: right;\">\n",
       "      <th></th>\n",
       "      <th>T_degC</th>\n",
       "      <th>Salnty</th>\n",
       "      <th>O2ml_L</th>\n",
       "      <th>STheta</th>\n",
       "      <th>O2Sat</th>\n",
       "      <th>Oxy_µmol/Kg</th>\n",
       "      <th>BtlNum</th>\n",
       "      <th>T_prec</th>\n",
       "      <th>T_qual</th>\n",
       "      <th>S_prec</th>\n",
       "      <th>...</th>\n",
       "      <th>R_NH4</th>\n",
       "      <th>R_CHLA</th>\n",
       "      <th>R_PHAEO</th>\n",
       "      <th>R_SAMP</th>\n",
       "      <th>DIC1</th>\n",
       "      <th>DIC2</th>\n",
       "      <th>TA1</th>\n",
       "      <th>TA2</th>\n",
       "      <th>pH2</th>\n",
       "      <th>pH1</th>\n",
       "    </tr>\n",
       "  </thead>\n",
       "  <tbody>\n",
       "    <tr>\n",
       "      <th>0</th>\n",
       "      <td>10.50</td>\n",
       "      <td>33.440</td>\n",
       "      <td>NaN</td>\n",
       "      <td>25.649</td>\n",
       "      <td>NaN</td>\n",
       "      <td>NaN</td>\n",
       "      <td>NaN</td>\n",
       "      <td>1.0</td>\n",
       "      <td>NaN</td>\n",
       "      <td>2.0</td>\n",
       "      <td>...</td>\n",
       "      <td>NaN</td>\n",
       "      <td>NaN</td>\n",
       "      <td>NaN</td>\n",
       "      <td>NaN</td>\n",
       "      <td>NaN</td>\n",
       "      <td>NaN</td>\n",
       "      <td>NaN</td>\n",
       "      <td>NaN</td>\n",
       "      <td>NaN</td>\n",
       "      <td>NaN</td>\n",
       "    </tr>\n",
       "    <tr>\n",
       "      <th>1</th>\n",
       "      <td>10.46</td>\n",
       "      <td>33.440</td>\n",
       "      <td>NaN</td>\n",
       "      <td>25.656</td>\n",
       "      <td>NaN</td>\n",
       "      <td>NaN</td>\n",
       "      <td>NaN</td>\n",
       "      <td>2.0</td>\n",
       "      <td>NaN</td>\n",
       "      <td>2.0</td>\n",
       "      <td>...</td>\n",
       "      <td>NaN</td>\n",
       "      <td>NaN</td>\n",
       "      <td>NaN</td>\n",
       "      <td>NaN</td>\n",
       "      <td>NaN</td>\n",
       "      <td>NaN</td>\n",
       "      <td>NaN</td>\n",
       "      <td>NaN</td>\n",
       "      <td>NaN</td>\n",
       "      <td>NaN</td>\n",
       "    </tr>\n",
       "    <tr>\n",
       "      <th>2</th>\n",
       "      <td>10.46</td>\n",
       "      <td>33.437</td>\n",
       "      <td>NaN</td>\n",
       "      <td>25.654</td>\n",
       "      <td>NaN</td>\n",
       "      <td>NaN</td>\n",
       "      <td>NaN</td>\n",
       "      <td>2.0</td>\n",
       "      <td>NaN</td>\n",
       "      <td>3.0</td>\n",
       "      <td>...</td>\n",
       "      <td>NaN</td>\n",
       "      <td>NaN</td>\n",
       "      <td>NaN</td>\n",
       "      <td>NaN</td>\n",
       "      <td>NaN</td>\n",
       "      <td>NaN</td>\n",
       "      <td>NaN</td>\n",
       "      <td>NaN</td>\n",
       "      <td>NaN</td>\n",
       "      <td>NaN</td>\n",
       "    </tr>\n",
       "    <tr>\n",
       "      <th>3</th>\n",
       "      <td>10.45</td>\n",
       "      <td>33.420</td>\n",
       "      <td>NaN</td>\n",
       "      <td>25.643</td>\n",
       "      <td>NaN</td>\n",
       "      <td>NaN</td>\n",
       "      <td>NaN</td>\n",
       "      <td>2.0</td>\n",
       "      <td>NaN</td>\n",
       "      <td>2.0</td>\n",
       "      <td>...</td>\n",
       "      <td>NaN</td>\n",
       "      <td>NaN</td>\n",
       "      <td>NaN</td>\n",
       "      <td>NaN</td>\n",
       "      <td>NaN</td>\n",
       "      <td>NaN</td>\n",
       "      <td>NaN</td>\n",
       "      <td>NaN</td>\n",
       "      <td>NaN</td>\n",
       "      <td>NaN</td>\n",
       "    </tr>\n",
       "    <tr>\n",
       "      <th>4</th>\n",
       "      <td>10.45</td>\n",
       "      <td>33.421</td>\n",
       "      <td>NaN</td>\n",
       "      <td>25.643</td>\n",
       "      <td>NaN</td>\n",
       "      <td>NaN</td>\n",
       "      <td>NaN</td>\n",
       "      <td>2.0</td>\n",
       "      <td>NaN</td>\n",
       "      <td>3.0</td>\n",
       "      <td>...</td>\n",
       "      <td>NaN</td>\n",
       "      <td>NaN</td>\n",
       "      <td>NaN</td>\n",
       "      <td>NaN</td>\n",
       "      <td>NaN</td>\n",
       "      <td>NaN</td>\n",
       "      <td>NaN</td>\n",
       "      <td>NaN</td>\n",
       "      <td>NaN</td>\n",
       "      <td>NaN</td>\n",
       "    </tr>\n",
       "  </tbody>\n",
       "</table>\n",
       "<p>5 rows × 65 columns</p>\n",
       "</div>"
      ],
      "text/plain": [
       "   T_degC  Salnty  O2ml_L  STheta  O2Sat  Oxy_µmol/Kg  BtlNum  T_prec  T_qual  \\\n",
       "0   10.50  33.440     NaN  25.649    NaN          NaN     NaN     1.0     NaN   \n",
       "1   10.46  33.440     NaN  25.656    NaN          NaN     NaN     2.0     NaN   \n",
       "2   10.46  33.437     NaN  25.654    NaN          NaN     NaN     2.0     NaN   \n",
       "3   10.45  33.420     NaN  25.643    NaN          NaN     NaN     2.0     NaN   \n",
       "4   10.45  33.421     NaN  25.643    NaN          NaN     NaN     2.0     NaN   \n",
       "\n",
       "   S_prec ...   R_NH4  R_CHLA  R_PHAEO  R_SAMP  DIC1  DIC2  TA1  TA2  pH2  pH1  \n",
       "0     2.0 ...     NaN     NaN      NaN     NaN   NaN   NaN  NaN  NaN  NaN  NaN  \n",
       "1     2.0 ...     NaN     NaN      NaN     NaN   NaN   NaN  NaN  NaN  NaN  NaN  \n",
       "2     3.0 ...     NaN     NaN      NaN     NaN   NaN   NaN  NaN  NaN  NaN  NaN  \n",
       "3     2.0 ...     NaN     NaN      NaN     NaN   NaN   NaN  NaN  NaN  NaN  NaN  \n",
       "4     3.0 ...     NaN     NaN      NaN     NaN   NaN   NaN  NaN  NaN  NaN  NaN  \n",
       "\n",
       "[5 rows x 65 columns]"
      ]
     },
     "execution_count": 22,
     "metadata": {},
     "output_type": "execute_result"
    }
   ],
   "source": [
    "import numpy as np\n",
    "df_num = df.select_dtypes(include=[np.float]) # оставим только числовые признаки\n",
    "df_num.head()"
   ]
  },
  {
   "cell_type": "code",
   "execution_count": 23,
   "metadata": {},
   "outputs": [],
   "source": [
    "X, y = df_num.drop('T_degC',  1), df_num['T_degC']\n",
    "from sklearn.cross_validation import train_test_split\n",
    "\n",
    "X_train, X_test, y_train, y_test = train_test_split(X, y, train_size=0.8)"
   ]
  },
  {
   "cell_type": "code",
   "execution_count": null,
   "metadata": {},
   "outputs": [],
   "source": []
  }
 ],
 "metadata": {
  "kernelspec": {
   "display_name": "Python 3",
   "language": "python",
   "name": "python3"
  },
  "language_info": {
   "codemirror_mode": {
    "name": "ipython",
    "version": 3
   },
   "file_extension": ".py",
   "mimetype": "text/x-python",
   "name": "python",
   "nbconvert_exporter": "python",
   "pygments_lexer": "ipython3",
   "version": "3.6.5"
  }
 },
 "nbformat": 4,
 "nbformat_minor": 2
}
