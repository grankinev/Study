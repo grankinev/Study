{
 "cells": [
  {
   "cell_type": "code",
   "execution_count": 17,
   "metadata": {},
   "outputs": [
    {
     "name": "stdout",
     "output_type": "stream",
     "text": [
      "23.4\n",
      "23\n",
      "56.56\n",
      "done\n",
      "34.32\n"
     ]
    }
   ],
   "source": [
    "#задача 1\n",
    "a = ()\n",
    "b = ()\n",
    "sps = []\n",
    "sum = 0\n",
    "\n",
    "while True:\n",
    "    a = input()\n",
    "    if a != 'done':\n",
    "        b = float(a)\n",
    "        sps.append(b)\n",
    "    else:\n",
    "        break\n",
    "\n",
    "for i in sps:\n",
    "    sum = sum + i\n",
    "\n",
    "    \n",
    "armean = sum/len(sps)\n",
    "\n",
    "print (armean)"
   ]
  },
  {
   "cell_type": "code",
   "execution_count": 18,
   "metadata": {},
   "outputs": [
    {
     "name": "stdout",
     "output_type": "stream",
     "text": [
      "2.5\n",
      "2.9\n",
      "0.0000000001\n",
      "done\n",
      "1e-10 2.9\n"
     ]
    }
   ],
   "source": [
    "#задача 2\n",
    "a = ()\n",
    "b = ()\n",
    "sps = []\n",
    "\n",
    "\n",
    "while True:\n",
    "    a = input()\n",
    "    if a != 'done':\n",
    "        b = float(a)\n",
    "        sps.append(b)\n",
    "    else:\n",
    "        break\n",
    "\n",
    "        \n",
    "min = sps[0]\n",
    "max = sps[0]\n",
    "for i in sps:\n",
    "    if i < min:\n",
    "        min = i\n",
    "    elif i > max:\n",
    "        max = i\n",
    "\n",
    "\n",
    "print (min, max)"
   ]
  },
  {
   "cell_type": "code",
   "execution_count": 38,
   "metadata": {},
   "outputs": [],
   "source": [
    "#задача 3\n",
    "\n",
    "d1 = {'Item1': {'Name': 'Cake', 'Price': 20},\n",
    " 'Item2': {'Name': 'Pie', 'Price': 10},\n",
    " 'Item3': {'Name': 'Chocobar', 'Price': 5}}\n",
    "d2 = {'Item4': {'Name': 'Brownie', 'Price': 15},\n",
    " 'Item5': {'Name': 'Cake', 'Price': 20}}\n",
    "\n",
    "#объединяем\n",
    "d3={}\n",
    "d3.update(d1)\n",
    "d3.update(d2)\n",
    "\n",
    "#убираем лишнее\n",
    "d4={}\n",
    "for key,value in d3.items():\n",
    "    if key not in d4.keys() and value not in d4.values():\n",
    "        d4[key]=value\n",
    "   \n",
    "        "
   ]
  },
  {
   "cell_type": "code",
   "execution_count": 47,
   "metadata": {},
   "outputs": [
    {
     "data": {
      "text/plain": [
       "50"
      ]
     },
     "execution_count": 47,
     "metadata": {},
     "output_type": "execute_result"
    }
   ],
   "source": [
    "#задача 4\n",
    "sum=0\n",
    "d4\n",
    "for value in d4.values():\n",
    "    sum=sum+value['Price']\n",
    "sum"
   ]
  },
  {
   "cell_type": "code",
   "execution_count": 51,
   "metadata": {},
   "outputs": [],
   "source": [
    "#задача 5\n",
    "d1={'Item1': 120, 'Item2': 100, 'Item3': 500}\n",
    "d2={'Item1': 5, 'Item2': 12, 'Item3': 7}\n",
    "d3={}\n",
    "\n",
    "for k1 in d1.keys():\n",
    "    for k2 in d2.keys():\n",
    "        if k1==k2:\n",
    "          d3[k1]=d1[k1]*d2[k2]\n"
   ]
  },
  {
   "cell_type": "code",
   "execution_count": 1,
   "metadata": {},
   "outputs": [
    {
     "data": {
      "text/plain": [
       "0.0"
      ]
     },
     "execution_count": 1,
     "metadata": {},
     "output_type": "execute_result"
    }
   ],
   "source": [
    "0."
   ]
  },
  {
   "cell_type": "code",
   "execution_count": null,
   "metadata": {},
   "outputs": [],
   "source": []
  }
 ],
 "metadata": {
  "kernelspec": {
   "display_name": "Python 3",
   "language": "python",
   "name": "python3"
  },
  "language_info": {
   "codemirror_mode": {
    "name": "ipython",
    "version": 3
   },
   "file_extension": ".py",
   "mimetype": "text/x-python",
   "name": "python",
   "nbconvert_exporter": "python",
   "pygments_lexer": "ipython3",
   "version": "3.6.5"
  }
 },
 "nbformat": 4,
 "nbformat_minor": 2
}
