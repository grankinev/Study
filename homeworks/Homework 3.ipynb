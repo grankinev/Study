{
 "cells": [
  {
   "cell_type": "code",
   "execution_count": 1,
   "metadata": {},
   "outputs": [
    {
     "name": "stdout",
     "output_type": "stream",
     "text": [
      "Answer is: AAAAADDDDDD\n"
     ]
    }
   ],
   "source": [
    "#Задача 1\n",
    "\n",
    "a = 'AAAAAhBBBBBhCCCCChDDDDDD'\n",
    "c = a.count('h')\n",
    "position_start = a.find('h')\n",
    "position_finish = a.rfind('h')\n",
    "answer = str()\n",
    "for i, j in enumerate(a):\n",
    "    if i<position_start or i > position_finish:\n",
    "        answer += j\n",
    "\n",
    "print('Answer is:', answer)\n",
    "\n",
    "\n",
    "\n",
    "        \n",
    "    "
   ]
  },
  {
   "cell_type": "code",
   "execution_count": 16,
   "metadata": {},
   "outputs": [
    {
     "data": {
      "text/plain": [
       "24"
      ]
     },
     "execution_count": 16,
     "metadata": {},
     "output_type": "execute_result"
    }
   ],
   "source": [
    "#Задача 2    \n",
    "\n",
    "poem = \"\"\"5 little piges.\n",
    "This little pig went to market,\n",
    "This little pig stayed at home,\n",
    "This little pig had roast beef,\n",
    "And this little pig had none,\n",
    "This little pig said, \"Wee, wee, wee!\n",
    "I can't find my way home.\"\"\"\n",
    "\n",
    "poem1 = poem.replace('.', '')\n",
    "poem2 = poem1.replace(',', '')\n",
    "poem2 = poem2.lower()\n",
    "poem2 = poem2.replace ('\\n', '')\n",
    "poem2 = poem2.replace ('!', ' ')\n",
    "\n",
    "words = set(poem2.split(' '))\n",
    "len(words)\n",
    "\n",
    "\n",
    "\n"
   ]
  },
  {
   "cell_type": "code",
   "execution_count": 37,
   "metadata": {},
   "outputs": [
    {
     "name": "stdout",
     "output_type": "stream",
     "text": [
      "Доля безопасных паролей равна  0.0\n"
     ]
    }
   ],
   "source": [
    "#Задача 3\n",
    "\n",
    "with open('10-million-password-list-top-500.txt') as pswd:\n",
    "    counter = 0\n",
    "    safe = 0\n",
    "    for line in pswd:\n",
    "        security_ind = 0\n",
    "        \n",
    "        # проверка наличия цифр и букв\n",
    "        digit = 0\n",
    "        alpha = 0\n",
    "        upper = 0\n",
    "        for i in line:\n",
    "            if i.isdigit():\n",
    "                digit = 1\n",
    "            if i.isalpha():\n",
    "                alpha = 1\n",
    "            if i.isupper():\n",
    "                upper = 1        \n",
    "        if digit == 1 and alpha == 1 and upper == 1:\n",
    "            security_ind += 1\n",
    "        \n",
    "            \n",
    "        # проверка длины\n",
    "        if len(line) >= 6:\n",
    "            security_ind += 1\n",
    "        \n",
    "        if security_ind > 1:\n",
    "            safe += 1\n",
    "        \n",
    "        counter += 1\n",
    "        \n",
    "    print('Доля безопасных паролей равна ', safe/counter )\n",
    "            \n",
    "        \n",
    "        \n",
    "       \n",
    "    \n",
    "    \n",
    "       \n",
    "        "
   ]
  },
  {
   "cell_type": "code",
   "execution_count": null,
   "metadata": {},
   "outputs": [],
   "source": []
  }
 ],
 "metadata": {
  "kernelspec": {
   "display_name": "Python 3",
   "language": "python",
   "name": "python3"
  },
  "language_info": {
   "codemirror_mode": {
    "name": "ipython",
    "version": 3
   },
   "file_extension": ".py",
   "mimetype": "text/x-python",
   "name": "python",
   "nbconvert_exporter": "python",
   "pygments_lexer": "ipython3",
   "version": "3.6.5"
  }
 },
 "nbformat": 4,
 "nbformat_minor": 2
}
