{
 "cells": [
  {
   "cell_type": "code",
   "execution_count": 44,
   "metadata": {},
   "outputs": [
    {
     "name": "stdout",
     "output_type": "stream",
     "text": [
      "8:15\n"
     ]
    }
   ],
   "source": [
    "#задача №1\n",
    "duration = 2.75\n",
    "res=duration*3\n",
    "hh = int(res//1)\n",
    "mm = int((res%1)*60)\n",
    "print (hh,':',mm, sep=\"\")"
   ]
  },
  {
   "cell_type": "code",
   "execution_count": 47,
   "metadata": {},
   "outputs": [
    {
     "name": "stdout",
     "output_type": "stream",
     "text": [
      "l3 = abcdefghabcdefghabcdefghabcdefghabcdefgh\n"
     ]
    }
   ],
   "source": [
    "#задача 2\n",
    "l1='abcd'\n",
    "l2='efgh'\n",
    "n=5\n",
    "l3=(l1+l2)*n\n",
    "print ('l3 =', l3)"
   ]
  },
  {
   "cell_type": "code",
   "execution_count": 52,
   "metadata": {},
   "outputs": [
    {
     "name": "stdout",
     "output_type": "stream",
     "text": [
      "4:22:30\n"
     ]
    }
   ],
   "source": [
    "#задача 3 \n",
    "hh=0\n",
    "mm=0\n",
    "ss=0\n",
    "n=15750\n",
    "hh=n//60//60\n",
    "mm=n//60-hh*60\n",
    "ss=n%60\n",
    "print(hh,':',mm,':',ss, sep='')"
   ]
  },
  {
   "cell_type": "code",
   "execution_count": 70,
   "metadata": {},
   "outputs": [
    {
     "name": "stdout",
     "output_type": "stream",
     "text": [
      "60-ое число Фибоначчи равно:1548008755920\n"
     ]
    }
   ],
   "source": [
    "#задача 4\n",
    "k=60\n",
    "fib = int((((1+5**0.5)/2)**k-((1-5**0.5)/2)**k)/(5**0.5))\n",
    "print(k,'-ое число Фибоначчи равно:',fib, sep='')"
   ]
  },
  {
   "cell_type": "code",
   "execution_count": null,
   "metadata": {},
   "outputs": [],
   "source": []
  }
 ],
 "metadata": {
  "kernelspec": {
   "display_name": "Python 3",
   "language": "python",
   "name": "python3"
  },
  "language_info": {
   "codemirror_mode": {
    "name": "ipython",
    "version": 3
   },
   "file_extension": ".py",
   "mimetype": "text/x-python",
   "name": "python",
   "nbconvert_exporter": "python",
   "pygments_lexer": "ipython3",
   "version": "3.6.5"
  }
 },
 "nbformat": 4,
 "nbformat_minor": 2
}
