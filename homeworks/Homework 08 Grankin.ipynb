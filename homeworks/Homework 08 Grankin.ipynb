{
 "cells": [
  {
   "cell_type": "code",
   "execution_count": 69,
   "metadata": {},
   "outputs": [
    {
     "ename": "AttributeError",
     "evalue": "'NoneType' object has no attribute 'group'",
     "output_type": "error",
     "traceback": [
      "\u001b[1;31m---------------------------------------------------------------------------\u001b[0m",
      "\u001b[1;31mAttributeError\u001b[0m                            Traceback (most recent call last)",
      "\u001b[1;32m<ipython-input-69-a76c5df42781>\u001b[0m in \u001b[0;36m<module>\u001b[1;34m()\u001b[0m\n\u001b[0;32m     11\u001b[0m \u001b[1;32mfor\u001b[0m \u001b[0murl\u001b[0m \u001b[1;32min\u001b[0m \u001b[0murls\u001b[0m\u001b[1;33m:\u001b[0m\u001b[1;33m\u001b[0m\u001b[0m\n\u001b[0;32m     12\u001b[0m     \u001b[0mfilename\u001b[0m \u001b[1;33m=\u001b[0m \u001b[0mre\u001b[0m\u001b[1;33m.\u001b[0m\u001b[0msearch\u001b[0m\u001b[1;33m(\u001b[0m\u001b[1;34mr'/([\\w_-]+[.](jpg|gif|png))$'\u001b[0m\u001b[1;33m,\u001b[0m \u001b[0murl\u001b[0m\u001b[1;33m)\u001b[0m\u001b[1;33m\u001b[0m\u001b[0m\n\u001b[1;32m---> 13\u001b[1;33m     \u001b[1;32mwith\u001b[0m \u001b[0mopen\u001b[0m\u001b[1;33m(\u001b[0m\u001b[0mfilename\u001b[0m\u001b[1;33m.\u001b[0m\u001b[0mgroup\u001b[0m\u001b[1;33m(\u001b[0m\u001b[1;36m1\u001b[0m\u001b[1;33m)\u001b[0m\u001b[1;33m,\u001b[0m \u001b[1;34m'wb'\u001b[0m\u001b[1;33m)\u001b[0m \u001b[1;32mas\u001b[0m \u001b[0mf\u001b[0m\u001b[1;33m:\u001b[0m\u001b[1;33m\u001b[0m\u001b[0m\n\u001b[0m\u001b[0;32m     14\u001b[0m         \u001b[0mresponse\u001b[0m \u001b[1;33m=\u001b[0m \u001b[0mrequests\u001b[0m\u001b[1;33m.\u001b[0m\u001b[0mget\u001b[0m\u001b[1;33m(\u001b[0m\u001b[0murl\u001b[0m\u001b[1;33m)\u001b[0m\u001b[1;33m\u001b[0m\u001b[0m\n\u001b[0;32m     15\u001b[0m         \u001b[0mf\u001b[0m\u001b[1;33m.\u001b[0m\u001b[0mwrite\u001b[0m\u001b[1;33m(\u001b[0m\u001b[0mresponse\u001b[0m\u001b[1;33m.\u001b[0m\u001b[0mcontent\u001b[0m\u001b[1;33m)\u001b[0m\u001b[1;33m\u001b[0m\u001b[0m\n",
      "\u001b[1;31mAttributeError\u001b[0m: 'NoneType' object has no attribute 'group'"
     ]
    }
   ],
   "source": [
    "#Задача 2. Выгрузка постеров\n",
    "import re\n",
    "import requests\n",
    "from bs4 import BeautifulSoup\n",
    "\n",
    "response = requests.get('https://www.kinopoisk.ru/film/zvyozdnye-voyny-poslednie-dzhedai-2017-718223/posters/')\n",
    "soup = BeautifulSoup(response.text, 'html.parser')\n",
    "img_tags = soup.find_all('img')\n",
    "urls = [img['src'] for img in img_tags]\n",
    "\n",
    "for url in urls:\n",
    "    filename = re.search(r'/([\\w_-]+[.](jpg|gif|png))$', url)\n",
    "    with open(filename.group(1), 'wb') as f:\n",
    "        response = requests.get(url)\n",
    "        f.write(response.content)\n",
    "        \n",
    "\n"
   ]
  },
  {
   "cell_type": "code",
   "execution_count": 60,
   "metadata": {},
   "outputs": [
    {
     "name": "stdout",
     "output_type": "stream",
     "text": [
      "None\n"
     ]
    }
   ],
   "source": [
    "f=re.search(r'/([\\d]+[.](jpg|gif|png))$', url[3])\n",
    "print(f)"
   ]
  },
  {
   "cell_type": "code",
   "execution_count": 64,
   "metadata": {},
   "outputs": [
    {
     "data": {
      "text/plain": [
       "'https://st.kp.yandex.net/images/sqr-orange.gif'"
      ]
     },
     "execution_count": 64,
     "metadata": {},
     "output_type": "execute_result"
    }
   ],
   "source": [
    "f=re.search(r'/([\\w_-]+[.](jpg|gif|png))$', url)\n",
    "f.string"
   ]
  },
  {
   "cell_type": "code",
   "execution_count": 52,
   "metadata": {},
   "outputs": [
    {
     "data": {
      "text/plain": [
       "['https://st.kp.yandex.net/images/sqr-orange.gif',\n",
       " 'https://st.kp.yandex.net/images/profile/rssplus.gif',\n",
       " 'https://st.kp.yandex.net/images/poster/sm_3101844.jpg',\n",
       " 'https://st.kp.yandex.net/images/poster/sm_3101843.jpg',\n",
       " 'https://st.kp.yandex.net/images/poster/sm_3101842.jpg',\n",
       " 'https://st.kp.yandex.net/images/poster/sm_3101841.jpg',\n",
       " 'https://st.kp.yandex.net/images/poster/sm_3101840.jpg',\n",
       " 'https://st.kp.yandex.net/images/poster/sm_3101839.jpg',\n",
       " 'https://st.kp.yandex.net/images/poster/sm_3101838.jpg',\n",
       " 'https://st.kp.yandex.net/images/poster/sm_3101837.jpg',\n",
       " 'https://st.kp.yandex.net/images/poster/sm_3101836.jpg',\n",
       " 'https://st.kp.yandex.net/images/poster/sm_3100653.jpg',\n",
       " 'https://st.kp.yandex.net/images/poster/sm_3100652.jpg',\n",
       " 'https://st.kp.yandex.net/images/poster/sm_3100651.jpg',\n",
       " 'https://st.kp.yandex.net/images/poster/sm_3100650.jpg',\n",
       " 'https://st.kp.yandex.net/images/poster/sm_3100649.jpg',\n",
       " 'https://st.kp.yandex.net/images/poster/sm_3100648.jpg',\n",
       " 'https://st.kp.yandex.net/images/poster/sm_3094984.jpg',\n",
       " 'https://st.kp.yandex.net/images/poster/sm_3094983.jpg',\n",
       " 'https://st.kp.yandex.net/images/poster/sm_3094982.jpg',\n",
       " 'https://st.kp.yandex.net/images/poster/sm_3093093.jpg',\n",
       " 'https://st.kp.yandex.net/images/poster/sm_3093092.jpg',\n",
       " 'https://st.kp.yandex.net/images/poster/sm_3093091.jpg',\n",
       " 'https://st.kp.yandex.net/images/poster/sm_3093090.jpg',\n",
       " 'https://st.kp.yandex.net/images/poster/sm_3093089.jpg',\n",
       " 'https://st.kp.yandex.net/images/poster/sm_3093088.jpg',\n",
       " 'https://st.kp.yandex.net/images/poster/sm_3092667.jpg',\n",
       " 'https://st.kp.yandex.net/images/poster/sm_3092666.jpg',\n",
       " 'https://st.kp.yandex.net/images/poster/sm_3089917.jpg',\n",
       " 'https://st.kp.yandex.net/images/poster/sm_3089916.jpg',\n",
       " 'https://st.kp.yandex.net/images/poster/sm_3086641.jpg',\n",
       " 'https://st.kp.yandex.net/images/poster/sm_3086640.jpg',\n",
       " 'https://st.kp.yandex.net/images/poster/sm_3086639.jpg',\n",
       " 'https://st.kp.yandex.net/images/poster/sm_3086638.jpg',\n",
       " 'https://st.kp.yandex.net/images/poster/sm_3086637.jpg',\n",
       " 'https://st.kp.yandex.net/images/poster/sm_3086636.jpg',\n",
       " 'https://st.kp.yandex.net/images/poster/sm_3086635.jpg',\n",
       " 'https://st.kp.yandex.net/images/poster/sm_3086634.jpg',\n",
       " 'https://st.kp.yandex.net/images/poster/sm_3086633.jpg',\n",
       " 'https://st.kp.yandex.net/images/poster/sm_3086632.jpg',\n",
       " 'https://st.kp.yandex.net/images/poster/sm_3086631.jpg',\n",
       " 'https://st.kp.yandex.net/images/poster/sm_3086630.jpg',\n",
       " 'https://st.kp.yandex.net/images/poster/sm_3086629.jpg',\n",
       " 'https://st.kp.yandex.net/images/poster/sm_3086628.jpg',\n",
       " 'https://st.kp.yandex.net/images/sqr-grey.gif',\n",
       " 'https://st.kp.yandex.net/images/sqr-grey.gif',\n",
       " 'https://st.kp.yandex.net/images/sqr-grey.gif',\n",
       " 'https://st.kp.yandex.net/images/sqr-grey.gif',\n",
       " 'https://st.kp.yandex.net/images/poster/sm_3282339.jpg',\n",
       " 'https://st.kp.yandex.net/images/spacer.gif',\n",
       " 'https://st.kp.yandex.net/images/spacer.gif',\n",
       " 'https://st.kp.yandex.net/images/spacer.gif',\n",
       " 'https://st.kp.yandex.net/images/spacer.gif',\n",
       " 'https://st.kp.yandex.net/images/spacer.gif',\n",
       " 'https://st.kp.yandex.net/images/spacer.gif',\n",
       " 'https://st.kp.yandex.net/images/spacer.gif',\n",
       " 'https://st.kp.yandex.net/images/spacer.gif',\n",
       " 'https://st.kp.yandex.net/images/spacer.gif',\n",
       " 'https://st.kp.yandex.net/images/kadr/sm_3282356.jpg',\n",
       " 'https://st.kp.yandex.net/images/spacer.gif',\n",
       " 'https://st.kp.yandex.net/images/spacer.gif',\n",
       " 'https://st.kp.yandex.net/images/spacer.gif',\n",
       " 'https://st.kp.yandex.net/images/spacer.gif',\n",
       " 'https://st.kp.yandex.net/images/spacer.gif',\n",
       " 'https://st.kp.yandex.net/images/spacer.gif',\n",
       " 'https://st.kp.yandex.net/images/spacer.gif',\n",
       " 'https://st.kp.yandex.net/images/spacer.gif',\n",
       " 'https://st.kp.yandex.net/images/spacer.gif',\n",
       " 'https://st.kp.yandex.net/images/chance/1361136.jpg',\n",
       " '//mc.yandex.ru/watch/22663942']"
      ]
     },
     "execution_count": 52,
     "metadata": {},
     "output_type": "execute_result"
    }
   ],
   "source": [
    "urls"
   ]
  },
  {
   "cell_type": "code",
   "execution_count": null,
   "metadata": {},
   "outputs": [],
   "source": []
  }
 ],
 "metadata": {
  "kernelspec": {
   "display_name": "Python 3",
   "language": "python",
   "name": "python3"
  },
  "language_info": {
   "codemirror_mode": {
    "name": "ipython",
    "version": 3
   },
   "file_extension": ".py",
   "mimetype": "text/x-python",
   "name": "python",
   "nbconvert_exporter": "python",
   "pygments_lexer": "ipython3",
   "version": "3.6.5"
  }
 },
 "nbformat": 4,
 "nbformat_minor": 2
}
